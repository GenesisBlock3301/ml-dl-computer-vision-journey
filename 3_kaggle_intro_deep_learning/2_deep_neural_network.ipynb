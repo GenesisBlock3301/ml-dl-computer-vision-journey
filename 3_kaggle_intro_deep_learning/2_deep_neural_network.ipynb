{
 "cells": [
  {
   "cell_type": "code",
   "id": "initial_id",
   "metadata": {
    "collapsed": true,
    "ExecuteTime": {
     "end_time": "2025-07-31T11:48:24.111554Z",
     "start_time": "2025-07-31T11:48:24.101399Z"
    }
   },
   "source": [
    "from tensorflow import keras\n",
    "from tensorflow.keras import layers\n",
    "from tensorflow.keras.models import Sequential\n",
    "import pandas as pd\n",
    "\n",
    "data = pd.read_csv('./data/abalone.csv')\n",
    "\n",
    "model = Sequential([\n",
    "    # the hidden ReLU layers; input features like [x1, x2]\n",
    "    layers.Dense(units=4, activation='relu', input_shape=[2]),\n",
    "    # first layer 4 neuron connected with 2 neuron\n",
    "    layers.Dense(units=2, activation='relu'),\n",
    "    # the linear output layer; so activation function not needed.\n",
    "    layers.Dense(units=1)\n",
    "])"
   ],
   "outputs": [
    {
     "data": {
      "text/plain": [
       "(4177, 9)"
      ]
     },
     "execution_count": 2,
     "metadata": {},
     "output_type": "execute_result"
    }
   ],
   "execution_count": 2
  }
 ],
 "metadata": {
  "kernelspec": {
   "display_name": "Python 3",
   "language": "python",
   "name": "python3"
  },
  "language_info": {
   "codemirror_mode": {
    "name": "ipython",
    "version": 2
   },
   "file_extension": ".py",
   "mimetype": "text/x-python",
   "name": "python",
   "nbconvert_exporter": "python",
   "pygments_lexer": "ipython2",
   "version": "2.7.6"
  }
 },
 "nbformat": 4,
 "nbformat_minor": 5
}
