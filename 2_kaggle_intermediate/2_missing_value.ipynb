{
 "cells": [
  {
   "cell_type": "code",
   "id": "initial_id",
   "metadata": {
    "collapsed": true,
    "ExecuteTime": {
     "end_time": "2025-07-24T11:04:47.323755Z",
     "start_time": "2025-07-24T11:04:47.293001Z"
    }
   },
   "source": [
    "import pandas as pd\n",
    "from sklearn.model_selection import train_test_split\n",
    "\n",
    "# load data\n",
    "data = pd.read_csv('./data/melb_data.csv')\n",
    "\n",
    "y = data.Price\n",
    "\n",
    "melb_predictors = data.drop('Price', axis=1)\n",
    "X = melb_predictors.select_dtypes(exclude=['object'])\n",
    "X_train, X_valid, y_train, y_valid = train_test_split(X, y, train_size=0.8, test_size=0.2, random_state=0)\n",
    "\n",
    "# print(score_dataset(reduce_X_train, reduce_X_valid, y_train, y_valid))"
   ],
   "outputs": [],
   "execution_count": 8
  },
  {
   "metadata": {
    "ExecuteTime": {
     "end_time": "2025-07-24T11:07:15.925673Z",
     "start_time": "2025-07-24T11:07:15.528250Z"
    }
   },
   "cell_type": "code",
   "source": [
    "# A Simple Option: Drop Columns with Missing Values\n",
    "from sklearn.ensemble import RandomForestRegressor\n",
    "from sklearn.metrics import mean_absolute_error\n",
    "\n",
    "def score_dataset(X_train, X_valid, y_train, y_valid):\n",
    "    model = RandomForestRegressor(n_estimators=10, random_state=0)\n",
    "    model.fit(X_train, y_train)\n",
    "    preds = model.predict(X_valid)\n",
    "    return mean_absolute_error(y_valid, preds)\n",
    "\n",
    "cols_with_missing = [col for col in X_train.columns if X_train[col].isnull().any()]\n",
    "print(f\"Missing values: {cols_with_missing}\")\n",
    "\n",
    "reduce_X_train = X_train.drop(cols_with_missing, axis=1)\n",
    "reduce_X_valid = X_valid.drop(cols_with_missing, axis=1)\n",
    "\n",
    "print(f\"MAE from approach 1 (Drop columns with missing value):\")\n",
    "print(score_dataset(reduce_X_train, reduce_X_valid, y_train, y_valid))"
   ],
   "id": "7a793b008d9fcc8b",
   "outputs": [
    {
     "name": "stdout",
     "output_type": "stream",
     "text": [
      "Missing values: ['Car', 'BuildingArea', 'YearBuilt']\n",
      "MAE from approach 1 (Drop columns with missing value):\n",
      "183550.22137772635\n"
     ]
    }
   ],
   "execution_count": 10
  },
  {
   "metadata": {
    "ExecuteTime": {
     "end_time": "2025-07-24T11:16:33.618849Z",
     "start_time": "2025-07-24T11:16:33.109346Z"
    }
   },
   "cell_type": "code",
   "source": [
    "# A Better Option: Imputation\n",
    "from sklearn.impute import SimpleImputer\n",
    "\n",
    "my_imputer = SimpleImputer()\n",
    "imputed_X_train = pd.DataFrame(my_imputer.fit_transform(X_train), columns=X_train.columns)\n",
    "imputed_X_valid = pd.DataFrame(my_imputer.transform(X_valid), columns=X_valid.columns)\n",
    "\n",
    "print(f\"MAE from approach 2 (Impute columns with missing value):\")\n",
    "print(score_dataset(imputed_X_train, imputed_X_valid, y_train, y_valid))"
   ],
   "id": "c53ed7d3d647e9e5",
   "outputs": [
    {
     "name": "stdout",
     "output_type": "stream",
     "text": [
      "MAE from approach 2 (Impute columns with missing value):\n",
      "178166.46269899711\n"
     ]
    }
   ],
   "execution_count": 18
  },
  {
   "metadata": {
    "ExecuteTime": {
     "end_time": "2025-07-24T12:13:57.566461Z",
     "start_time": "2025-07-24T12:13:57.007684Z"
    }
   },
   "cell_type": "code",
   "source": [
    "# approach 3 Extension to Imputation\n",
    "\n",
    "X_train_plus = X_train.copy()\n",
    "X_valid_plus = X_valid.copy()\n",
    "\n",
    "for col in cols_with_missing:\n",
    "    X_train_plus[col + '_was_missing'] = X_train[col].isnull()\n",
    "    X_valid_plus[col + '_was_missing'] = X_train[col].isnull()\n",
    "my_imputer = SimpleImputer()\n",
    "imputed_X_train_plus = pd.DataFrame(my_imputer.fit_transform(X_train_plus), columns=X_train_plus.columns)\n",
    "imputed_X_valid_plus = pd.DataFrame(my_imputer.transform(X_valid_plus), columns=X_valid_plus.columns)\n",
    "\n",
    "print(\"MAE from approach 3 (Impute columns with missing value):\")\n",
    "print(score_dataset(imputed_X_train_plus, imputed_X_valid_plus, y_train, y_valid))"
   ],
   "id": "49cef77b16e563a",
   "outputs": [
    {
     "name": "stdout",
     "output_type": "stream",
     "text": [
      "MAE from approach 3 (Impute columns with missing value):\n",
      "179808.1875113963\n"
     ]
    }
   ],
   "execution_count": 19
  },
  {
   "metadata": {
    "ExecuteTime": {
     "end_time": "2025-07-24T12:17:52.929545Z",
     "start_time": "2025-07-24T12:17:52.925977Z"
    }
   },
   "cell_type": "code",
   "source": [
    "# Shape of training data (num_rows, num_columns)\n",
    "print(X_train.shape)\n",
    "# print(X_train.isnull().sum())\n",
    "# Number of missing values in each column of training data\n",
    "missing_val_count_by_column = (X_train.isnull().sum())\n",
    "print(missing_val_count_by_column[missing_val_count_by_column > 0])"
   ],
   "id": "585c82ee619c0dc0",
   "outputs": [
    {
     "name": "stdout",
     "output_type": "stream",
     "text": [
      "(10864, 12)\n",
      "Car               49\n",
      "BuildingArea    5156\n",
      "YearBuilt       4307\n",
      "dtype: int64\n"
     ]
    }
   ],
   "execution_count": 26
  }
 ],
 "metadata": {
  "kernelspec": {
   "display_name": "Python 3",
   "language": "python",
   "name": "python3"
  },
  "language_info": {
   "codemirror_mode": {
    "name": "ipython",
    "version": 2
   },
   "file_extension": ".py",
   "mimetype": "text/x-python",
   "name": "python",
   "nbconvert_exporter": "python",
   "pygments_lexer": "ipython2",
   "version": "2.7.6"
  }
 },
 "nbformat": 4,
 "nbformat_minor": 5
}
