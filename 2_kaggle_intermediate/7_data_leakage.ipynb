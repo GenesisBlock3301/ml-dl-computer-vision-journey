{
 "cells": [
  {
   "cell_type": "code",
   "id": "initial_id",
   "metadata": {
    "collapsed": true,
    "ExecuteTime": {
     "end_time": "2025-07-26T09:20:39.131367Z",
     "start_time": "2025-07-26T09:20:38.273019Z"
    }
   },
   "source": [
    "import pandas as pd\n",
    "from sklearn.pipeline import make_pipeline\n",
    "from sklearn.ensemble import RandomForestClassifier\n",
    "from sklearn.model_selection import cross_val_score\n",
    "\n",
    "data = pd.read_csv(\"./data/AER_credit_card_data.csv\", true_values=['yes'], false_values=['no'])\n",
    "\n",
    "y = data.card\n",
    "\n",
    "# select target\n",
    "X = data.drop(columns=['card'], axis=1)\n",
    "\n",
    "print(\"Shape: \", X.shape)\n",
    "\n",
    "my_pipeline = make_pipeline(\n",
    "    RandomForestClassifier(n_estimators=100),\n",
    ")\n",
    "cv_scores = cross_val_score(my_pipeline, X, y, cv=5, scoring='accuracy')\n",
    "print(\"Cross validation accuracy: %.3f\" % cv_scores.mean())\n"
   ],
   "outputs": [
    {
     "name": "stdout",
     "output_type": "stream",
     "text": [
      "Shape:  (1319, 11)\n",
      "Cross validation accuracy: 0.980\n"
     ]
    }
   ],
   "execution_count": 4
  },
  {
   "metadata": {
    "ExecuteTime": {
     "end_time": "2025-07-26T09:23:52.048725Z",
     "start_time": "2025-07-26T09:23:52.043288Z"
    }
   },
   "cell_type": "code",
   "source": [
    "expenditures_cardholders = X.expenditure[y]\n",
    "expenditures_noncardholders = X.expenditure[~y]\n",
    "\n",
    "print(y)\n",
    "print('Fraction of those who did not receive a card and had no expenditures: %.2f' \\\n",
    "      %((expenditures_noncardholders == 0).mean()))\n",
    "print('Fraction of those who received a card and had no expenditures: %.2f' \\\n",
    "      %(( expenditures_cardholders == 0).mean()))"
   ],
   "id": "c04d5f0c267bb4e",
   "outputs": [
    {
     "name": "stdout",
     "output_type": "stream",
     "text": [
      "0        True\n",
      "1        True\n",
      "2        True\n",
      "3        True\n",
      "4        True\n",
      "        ...  \n",
      "1314     True\n",
      "1315    False\n",
      "1316     True\n",
      "1317     True\n",
      "1318     True\n",
      "Name: card, Length: 1319, dtype: bool\n",
      "Fraction of those who did not receive a card and had no expenditures: 1.00\n",
      "Fraction of those who received a card and had no expenditures: 0.02\n"
     ]
    }
   ],
   "execution_count": 8
  },
  {
   "metadata": {
    "ExecuteTime": {
     "end_time": "2025-07-26T15:39:00.230864Z",
     "start_time": "2025-07-26T15:38:58.636615Z"
    }
   },
   "cell_type": "code",
   "source": [
    "potential_leaks = ['expenditure', 'share', 'active', 'majorcards']\n",
    "X2 = X.drop(potential_leaks, axis=1)\n",
    "\n",
    "cv_scores = cross_val_score(my_pipeline, X2, y, cv=10, scoring='accuracy')\n",
    "print(\"Cross validation accuracy: %.3f\" % cv_scores.mean())"
   ],
   "id": "ea3c6fcd472d7b10",
   "outputs": [
    {
     "name": "stdout",
     "output_type": "stream",
     "text": [
      "Cross validation accuracy: 0.828\n"
     ]
    }
   ],
   "execution_count": 9
  }
 ],
 "metadata": {
  "kernelspec": {
   "display_name": "Python 3",
   "language": "python",
   "name": "python3"
  },
  "language_info": {
   "codemirror_mode": {
    "name": "ipython",
    "version": 2
   },
   "file_extension": ".py",
   "mimetype": "text/x-python",
   "name": "python",
   "nbconvert_exporter": "python",
   "pygments_lexer": "ipython2",
   "version": "2.7.6"
  }
 },
 "nbformat": 4,
 "nbformat_minor": 5
}
